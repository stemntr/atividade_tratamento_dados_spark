{
  "nbformat": 4,
  "nbformat_minor": 0,
  "metadata": {
    "colab": {
      "provenance": []
    },
    "kernelspec": {
      "name": "python3",
      "display_name": "Python 3"
    },
    "language_info": {
      "name": "python"
    }
  },
  "cells": [
    {
      "cell_type": "code",
      "execution_count": 1,
      "metadata": {
        "colab": {
          "base_uri": "https://localhost:8080/"
        },
        "id": "NwiSysEZk9ym",
        "outputId": "26aff1b9-9ef4-48eb-9148-f9abb6eb4717"
      },
      "outputs": [
        {
          "output_type": "stream",
          "name": "stdout",
          "text": [
            "Requirement already satisfied: pyspark in /usr/local/lib/python3.11/dist-packages (3.5.1)\n",
            "Requirement already satisfied: py4j==0.10.9.7 in /usr/local/lib/python3.11/dist-packages (from pyspark) (0.10.9.7)\n"
          ]
        }
      ],
      "source": [
        "!pip install pyspark"
      ]
    },
    {
      "cell_type": "code",
      "source": [
        "import pyspark\n",
        "import pandas as pd\n",
        "from pyspark.sql import SparkSession\n",
        "from pyspark.sql.functions import col, count, when, regexp_extract\n",
        "from pyspark.sql.functions import to_date, date_format\n"
      ],
      "metadata": {
        "id": "PHDv9NnclHeo"
      },
      "execution_count": 17,
      "outputs": []
    },
    {
      "cell_type": "code",
      "source": [
        "spark = SparkSession.builder.getOrCreate()"
      ],
      "metadata": {
        "id": "Pad5VshnlNTI"
      },
      "execution_count": 3,
      "outputs": []
    },
    {
      "cell_type": "code",
      "source": [
        "from google.colab import drive\n",
        "drive.mount('/content/drive')"
      ],
      "metadata": {
        "colab": {
          "base_uri": "https://localhost:8080/"
        },
        "id": "ObkGVBImlPo1",
        "outputId": "958efe1c-db00-4d2e-e51b-0a717c00944f"
      },
      "execution_count": 4,
      "outputs": [
        {
          "output_type": "stream",
          "name": "stdout",
          "text": [
            "Mounted at /content/drive\n"
          ]
        }
      ]
    },
    {
      "cell_type": "code",
      "source": [
        "videos_stats = spark.read.csv(\"/content/drive/MyDrive/atividadeTratamento/videos_stats.csv\", header=True, inferSchema=True)"
      ],
      "metadata": {
        "id": "MvN5iK5_loZV"
      },
      "execution_count": 5,
      "outputs": []
    },
    {
      "cell_type": "code",
      "source": [
        "print('dataframe videos_stats: \\n', videos_stats.show(5))"
      ],
      "metadata": {
        "colab": {
          "base_uri": "https://localhost:8080/"
        },
        "id": "OKyreQEMpalD",
        "outputId": "98130033-dd0e-45ea-e53c-7b11f4b0dde7"
      },
      "execution_count": 6,
      "outputs": [
        {
          "output_type": "stream",
          "name": "stdout",
          "text": [
            "+---+--------------------+-----------+------------+-------+-------+--------+---------+\n",
            "|_c0|               Title|   Video ID|Published At|Keyword|  Likes|Comments|    Views|\n",
            "+---+--------------------+-----------+------------+-------+-------+--------+---------+\n",
            "|  0|Apple Pay Is Kill...|wAZZ-UWGVHI|  2022-08-23|   tech| 3407.0|   672.0| 135612.0|\n",
            "|  1|The most EXPENSIV...|b3x28s61q3c|  2022-08-24|   tech|76779.0|  4306.0|1758063.0|\n",
            "|  2|My New House Gami...|4mgePWWCAmA|  2022-08-23|   tech|63825.0|  3338.0|1564007.0|\n",
            "|  3|Petrol Vs Liquid ...|kXiYSI7H2b0|  2022-08-23|   tech|71566.0|  1426.0| 922918.0|\n",
            "|  4|Best Back to Scho...|ErMwWXQxHp0|  2022-08-08|   tech|96513.0|  5155.0|1855644.0|\n",
            "+---+--------------------+-----------+------------+-------+-------+--------+---------+\n",
            "only showing top 5 rows\n",
            "\n",
            "dataframe videos_stats: \n",
            " None\n"
          ]
        }
      ]
    },
    {
      "cell_type": "code",
      "source": [
        "colunas = ['Likes', 'Views', 'Comments']\n",
        "\n",
        "for coluna in colunas:\n",
        "    videos_stats = videos_stats.na.fill({coluna: 0})\n",
        "\n",
        "print()"
      ],
      "metadata": {
        "colab": {
          "base_uri": "https://localhost:8080/"
        },
        "id": "xlLF9-nJnpjF",
        "outputId": "e0f7819f-432b-44ca-8f4b-8c63b2c65d3f"
      },
      "execution_count": 7,
      "outputs": [
        {
          "output_type": "stream",
          "name": "stdout",
          "text": [
            "\n"
          ]
        }
      ]
    },
    {
      "cell_type": "code",
      "source": [
        "comments = spark.read.csv(\"/content/drive/MyDrive/atividadeTratamento/comments.csv\", header=True, inferSchema=True)"
      ],
      "metadata": {
        "id": "zY8oEh-up65u"
      },
      "execution_count": 8,
      "outputs": []
    },
    {
      "cell_type": "code",
      "source": [
        "print('dataframe comments: \\n', comments.show(n=5, truncate=False))"
      ],
      "metadata": {
        "colab": {
          "base_uri": "https://localhost:8080/"
        },
        "collapsed": true,
        "id": "8Uql07G4qEg_",
        "outputId": "6c01fdae-a2c5-45c6-d901-63dd466778bf"
      },
      "execution_count": 9,
      "outputs": [
        {
          "output_type": "stream",
          "name": "stdout",
          "text": [
            "+---+-----------+---------------------------------------------------------------------------------------------------------------------------------------------------------------------------------------------------------------------------------------------------------------------------------------------------------------------------------------------------------------------------------------------------------------------------------------------------------------------------+-----+---------+\n",
            "|_c0|Video ID   |Comment                                                                                                                                                                                                                                                                                                                                                                                                                                                                    |Likes|Sentiment|\n",
            "+---+-----------+---------------------------------------------------------------------------------------------------------------------------------------------------------------------------------------------------------------------------------------------------------------------------------------------------------------------------------------------------------------------------------------------------------------------------------------------------------------------------+-----+---------+\n",
            "|0  |wAZZ-UWGVHI|Let's not forget that Apple Pay in 2014 required a brand new iPhone in order to use it.  A significant portion of Apple's user base wasn't able to use it even if they wanted to.  As each successive iPhone incorporated the technology and older iPhones were replaced the number of people who could use the technology increased.                                                                                                                                      |95.0 |1.0      |\n",
            "|1  |wAZZ-UWGVHI|Here in NZ 50% of retailers don’t even have contactless credit card machines like pay-wave which support Apple Pay. They don’t like the high fees that come with these.                                                                                                                                                                                                                                                                                                    |19.0 |0.0      |\n",
            "|2  |wAZZ-UWGVHI|I will forever acknowledge this channel with the help of your lessons and ideas explanations, Now It's quite helpful while you'll just sit at your comfort and monitor your account Growth.                                                                                                                                                                                                                                                                                |161.0|2.0      |\n",
            "|3  |wAZZ-UWGVHI|Whenever I go to a place that doesn’t take Apple Pay (doesn’t happen too often), it’s such a drag. Between ‘contactless Covid’ habits and my getting the Apple Card, I’ve gotten so used to Apple Pay that I get seriously annoyed when a store doesn’t take it. It feels like a shock, it’s crazy how quickly it took over my shopping routine! I’ve officially been brainwashed by Apple because now it feels so inconvenient to even carry a physical card in my pocket.|8.0  |0.0      |\n",
            "|4  |wAZZ-UWGVHI|Apple Pay is so convenient, secure, and easy to use. I used it while at the Korean and Japanese airports, no need for physical credit cards.                                                                                                                                                                                                                                                                                                                               |34.0 |2.0      |\n",
            "+---+-----------+---------------------------------------------------------------------------------------------------------------------------------------------------------------------------------------------------------------------------------------------------------------------------------------------------------------------------------------------------------------------------------------------------------------------------------------------------------------------------+-----+---------+\n",
            "only showing top 5 rows\n",
            "\n",
            "dataframe comments: \n",
            " None\n"
          ]
        }
      ]
    },
    {
      "cell_type": "code",
      "source": [
        "print('total registros: ', videos_stats.count())\n",
        "print('total comentarios', comments.count())\n",
        "print('total geral', comments.count() + videos_stats.count())"
      ],
      "metadata": {
        "colab": {
          "base_uri": "https://localhost:8080/"
        },
        "id": "oPQi3EVorKaR",
        "outputId": "1fec752a-8d30-4a15-c850-e15c634df206"
      },
      "execution_count": null,
      "outputs": [
        {
          "output_type": "stream",
          "name": "stdout",
          "text": [
            "total registros:  1881\n",
            "total comentarios 30036\n",
            "total geral 31917\n"
          ]
        }
      ]
    },
    {
      "cell_type": "code",
      "source": [
        "pedidos_remocao_nulos = videos_stats.na.drop()\n",
        "print('Total de videos após limpeza de valores nulos: ', pedidos_remocao_nulos.count())\n",
        "\n",
        "pedidos_remocao_nulos_id = comments.na.drop(subset=['video ID'])\n",
        "print('Total de videos após limpeza de id nulos: ', pedidos_remocao_nulos_id.count())"
      ],
      "metadata": {
        "colab": {
          "base_uri": "https://localhost:8080/"
        },
        "id": "flCwXvMas7Ks",
        "outputId": "7a303864-7660-4afd-9459-4048ef4f1a97"
      },
      "execution_count": 10,
      "outputs": [
        {
          "output_type": "stream",
          "name": "stdout",
          "text": [
            "Total de videos após limpeza de valores nulos:  1881\n",
            "Total de videos após limpeza de id nulos:  22555\n"
          ]
        }
      ]
    },
    {
      "cell_type": "code",
      "source": [
        "videos_stats.groupBy(\"Video ID\").count().filter(col(\"count\") > 1).show()"
      ],
      "metadata": {
        "colab": {
          "base_uri": "https://localhost:8080/"
        },
        "id": "AnpNTyZxzzRO",
        "outputId": "86a8d0b4-b15c-4f40-ce77-959ba2748672"
      },
      "execution_count": 11,
      "outputs": [
        {
          "output_type": "stream",
          "name": "stdout",
          "text": [
            "+-----------+-----+\n",
            "|   Video ID|count|\n",
            "+-----------+-----+\n",
            "|7eh4d6sabA0|    2|\n",
            "|4mgePWWCAmA|    2|\n",
            "|5q87K1WaoFI|    2|\n",
            "|R-R0KrXvWbc|    2|\n",
            "|WBK2_lD7KGA|    2|\n",
            "|RFMi3v0TXP8|    2|\n",
            "|96mrgd8-3yE|    2|\n",
            "|mqc6QqoGNWI|    2|\n",
            "|2FYvHn12pOQ|    2|\n",
            "|kkOweffr3II|    2|\n",
            "|LeC5yJq4tsI|    2|\n",
            "|ZgeorpjGJC0|    2|\n",
            "+-----------+-----+\n",
            "\n"
          ]
        }
      ]
    },
    {
      "cell_type": "code",
      "source": [
        "convertidosint_tratados_df = videos_stats.\\\n",
        "    withColumn('Likes', col('Likes').cast('int')).\\\n",
        "    withColumn('comments', col('comments').cast('int')).\\\n",
        "    withColumn('views', col('views').cast('int'))\n",
        "\n",
        "convertidosint_tratados_df.show()\n",
        "convertidosint_tratados_df.printSchema()"
      ],
      "metadata": {
        "colab": {
          "base_uri": "https://localhost:8080/"
        },
        "id": "ovrdR_y12NM7",
        "outputId": "cded0836-ee9a-4362-b07a-fe7f90edbcca"
      },
      "execution_count": 12,
      "outputs": [
        {
          "output_type": "stream",
          "name": "stdout",
          "text": [
            "+---+--------------------+-----------+------------+-------+------+--------+--------+\n",
            "|_c0|               Title|   Video ID|Published At|Keyword| Likes|comments|   views|\n",
            "+---+--------------------+-----------+------------+-------+------+--------+--------+\n",
            "|  0|Apple Pay Is Kill...|wAZZ-UWGVHI|  2022-08-23|   tech|  3407|     672|  135612|\n",
            "|  1|The most EXPENSIV...|b3x28s61q3c|  2022-08-24|   tech| 76779|    4306| 1758063|\n",
            "|  2|My New House Gami...|4mgePWWCAmA|  2022-08-23|   tech| 63825|    3338| 1564007|\n",
            "|  3|Petrol Vs Liquid ...|kXiYSI7H2b0|  2022-08-23|   tech| 71566|    1426|  922918|\n",
            "|  4|Best Back to Scho...|ErMwWXQxHp0|  2022-08-08|   tech| 96513|    5155| 1855644|\n",
            "|  5|Brewmaster Answer...|18fwz9Itbvo|  2021-11-05|   tech| 33570|    1643|  943119|\n",
            "|  6|Tech Monopolies: ...|jXf04bhcjbg|  2022-06-13|   tech|135047|    9367| 5937790|\n",
            "|  7|I bought the STRA...|2TqOmtTAMRY|  2022-08-07|   tech|216935|   12605| 4782514|\n",
            "|  8|15 Emerging Techn...|wLlL46pYcg4|  2021-12-08|   tech| 45565|    2882| 7001236|\n",
            "|  9|Toxicologist Answ...|R7qsau3X6Ks|  2022-07-14|   tech| 24252|    1068|  667767|\n",
            "| 10|Dope Tech: The Mo...|MEiq0oCUb_8|  2022-08-15|   tech|118001|    4123| 2359142|\n",
            "| 11|Cool Tech Under $...|pT_9hntWj34|  2022-08-06|   tech| 20999|    3091|  413179|\n",
            "| 12|Cool Back to Scho...|cj4lxmHQV0o|  2022-08-13|   tech| 15322|     547|  389114|\n",
            "| 13|Best Tech/EDC Gif...|d-BdIo8_wpA|  2021-12-15|   tech| 17866|     157|  444953|\n",
            "| 14|My Massive Tech U...|eFhhW6fsAbQ|  2022-07-09|   tech| 13217|     442|  371563|\n",
            "| 15|Why Millennials A...|N88OE2ZCHBM|  2021-06-04|   tech| 26890|    4999| 1633059|\n",
            "| 16|10 Coolest Gadget...|PKATJiyz0iI|  2021-08-13|   tech|  9562|     199|  760249|\n",
            "| 17|17 Coolest Gadget...|qiMnSaZWf3M|  2022-07-21|   tech| 11743|     143| 1086568|\n",
            "| 18|Almost EVERYONE i...|4AnyhHl3_tE|  2022-08-14|   tech|146978|   11105| 3186890|\n",
            "| 19|I bought the THIN...|nmY2kgWYwyQ|  2022-03-25|   tech|363771|   13609|11422924|\n",
            "+---+--------------------+-----------+------------+-------+------+--------+--------+\n",
            "only showing top 20 rows\n",
            "\n",
            "root\n",
            " |-- _c0: integer (nullable = true)\n",
            " |-- Title: string (nullable = true)\n",
            " |-- Video ID: string (nullable = true)\n",
            " |-- Published At: date (nullable = true)\n",
            " |-- Keyword: string (nullable = true)\n",
            " |-- Likes: integer (nullable = true)\n",
            " |-- comments: integer (nullable = true)\n",
            " |-- views: integer (nullable = true)\n",
            "\n"
          ]
        }
      ]
    },
    {
      "cell_type": "code",
      "source": [
        "alteracoesComment_df = comments.\\\n",
        "    withColumn('Likes', col('Likes').cast('int')).\\\n",
        "    withColumn('Sentiment', col('Sentiment').cast('int')).\\\n",
        "    withColumnRenamed(\"Likes\", \"Likes Comment\")\n",
        "\n",
        "\n",
        "alteracoesComment_df.show()\n",
        "alteracoesComment_df.printSchema()"
      ],
      "metadata": {
        "colab": {
          "base_uri": "https://localhost:8080/"
        },
        "id": "SNpkCNKv4Z7G",
        "outputId": "e436115c-2b60-4908-96d2-de2eba230a07"
      },
      "execution_count": 13,
      "outputs": [
        {
          "output_type": "stream",
          "name": "stdout",
          "text": [
            "+--------------+-----------+--------------------+-------------+---------+\n",
            "|           _c0|   Video ID|             Comment|Likes Comment|Sentiment|\n",
            "+--------------+-----------+--------------------+-------------+---------+\n",
            "|             0|wAZZ-UWGVHI|Let's not forget ...|           95|        1|\n",
            "|             1|wAZZ-UWGVHI|Here in NZ 50% of...|           19|        0|\n",
            "|             2|wAZZ-UWGVHI|I will forever ac...|          161|        2|\n",
            "|             3|wAZZ-UWGVHI|Whenever I go to ...|            8|        0|\n",
            "|             4|wAZZ-UWGVHI|Apple Pay is so c...|           34|        2|\n",
            "|             5|wAZZ-UWGVHI|We’ve been houndi...|            8|        1|\n",
            "|             6|wAZZ-UWGVHI|We only got Apple...|           29|        2|\n",
            "|             7|wAZZ-UWGVHI|For now, I need b...|            7|        1|\n",
            "|             8|wAZZ-UWGVHI|In the United Sta...|            2|        2|\n",
            "|             9|wAZZ-UWGVHI|In Cambodia, we h...|           28|        1|\n",
            "|            10|b3x28s61q3c|Wow, you really w...|         1344|        2|\n",
            "|            11|b3x28s61q3c|The lab is the mo...|          198|        2|\n",
            "|            12|b3x28s61q3c|Linus, I'm an eng...|          365|        2|\n",
            "|            13|b3x28s61q3c|There used to be ...|          211|        2|\n",
            "|            14|b3x28s61q3c|Holy crap. I was ...|          821|        0|\n",
            "|            15|b3x28s61q3c|I love the direct...|          150|        2|\n",
            "|            16|b3x28s61q3c|I am more excited...|           49|        2|\n",
            "|            17|b3x28s61q3c|I adore the worki...|           19|        2|\n",
            "|            18|b3x28s61q3c|LMGs growth is ho...|         NULL|     NULL|\n",
            "|More technical|   in depth| engineering orie...|           17|        2|\n",
            "+--------------+-----------+--------------------+-------------+---------+\n",
            "only showing top 20 rows\n",
            "\n",
            "root\n",
            " |-- _c0: string (nullable = true)\n",
            " |-- Video ID: string (nullable = true)\n",
            " |-- Comment: string (nullable = true)\n",
            " |-- Likes Comment: integer (nullable = true)\n",
            " |-- Sentiment: integer (nullable = true)\n",
            "\n"
          ]
        }
      ]
    },
    {
      "cell_type": "code",
      "source": [
        "campo_interaction_df = videos_stats.\\\n",
        "    withColumn('Likes', col('Likes').cast('float')).\\\n",
        "    withColumn('comments', col('comments').cast('float')).\\\n",
        "     withColumn('views', col('views').cast('float')).\\\n",
        "    withColumn('interaction', col('Likes') + col('Comments') + col('Views'))\n",
        "\n",
        "campo_interaction_df.show()"
      ],
      "metadata": {
        "colab": {
          "base_uri": "https://localhost:8080/"
        },
        "id": "3XMzhIremChT",
        "outputId": "8c36680d-e1ec-4f03-9fac-b6ab716706d9"
      },
      "execution_count": 14,
      "outputs": [
        {
          "output_type": "stream",
          "name": "stdout",
          "text": [
            "+---+--------------------+-----------+------------+-------+--------+--------+-----------+-----------+\n",
            "|_c0|               Title|   Video ID|Published At|Keyword|   Likes|comments|      views|interaction|\n",
            "+---+--------------------+-----------+------------+-------+--------+--------+-----------+-----------+\n",
            "|  0|Apple Pay Is Kill...|wAZZ-UWGVHI|  2022-08-23|   tech|  3407.0|   672.0|   135612.0|   139691.0|\n",
            "|  1|The most EXPENSIV...|b3x28s61q3c|  2022-08-24|   tech| 76779.0|  4306.0|  1758063.0|  1839148.0|\n",
            "|  2|My New House Gami...|4mgePWWCAmA|  2022-08-23|   tech| 63825.0|  3338.0|  1564007.0|  1631170.0|\n",
            "|  3|Petrol Vs Liquid ...|kXiYSI7H2b0|  2022-08-23|   tech| 71566.0|  1426.0|   922918.0|   995910.0|\n",
            "|  4|Best Back to Scho...|ErMwWXQxHp0|  2022-08-08|   tech| 96513.0|  5155.0|  1855644.0|  1957312.0|\n",
            "|  5|Brewmaster Answer...|18fwz9Itbvo|  2021-11-05|   tech| 33570.0|  1643.0|   943119.0|   978332.0|\n",
            "|  6|Tech Monopolies: ...|jXf04bhcjbg|  2022-06-13|   tech|135047.0|  9367.0|  5937790.0|  6082204.0|\n",
            "|  7|I bought the STRA...|2TqOmtTAMRY|  2022-08-07|   tech|216935.0| 12605.0|  4782514.0|  5012054.0|\n",
            "|  8|15 Emerging Techn...|wLlL46pYcg4|  2021-12-08|   tech| 45565.0|  2882.0|  7001236.0|  7049683.0|\n",
            "|  9|Toxicologist Answ...|R7qsau3X6Ks|  2022-07-14|   tech| 24252.0|  1068.0|   667767.0|   693087.0|\n",
            "| 10|Dope Tech: The Mo...|MEiq0oCUb_8|  2022-08-15|   tech|118001.0|  4123.0|  2359142.0|  2481266.0|\n",
            "| 11|Cool Tech Under $...|pT_9hntWj34|  2022-08-06|   tech| 20999.0|  3091.0|   413179.0|   437269.0|\n",
            "| 12|Cool Back to Scho...|cj4lxmHQV0o|  2022-08-13|   tech| 15322.0|   547.0|   389114.0|   404983.0|\n",
            "| 13|Best Tech/EDC Gif...|d-BdIo8_wpA|  2021-12-15|   tech| 17866.0|   157.0|   444953.0|   462976.0|\n",
            "| 14|My Massive Tech U...|eFhhW6fsAbQ|  2022-07-09|   tech| 13217.0|   442.0|   371563.0|   385222.0|\n",
            "| 15|Why Millennials A...|N88OE2ZCHBM|  2021-06-04|   tech| 26890.0|  4999.0|  1633059.0|  1664948.0|\n",
            "| 16|10 Coolest Gadget...|PKATJiyz0iI|  2021-08-13|   tech|  9562.0|   199.0|   760249.0|   770010.0|\n",
            "| 17|17 Coolest Gadget...|qiMnSaZWf3M|  2022-07-21|   tech| 11743.0|   143.0|  1086568.0|  1098454.0|\n",
            "| 18|Almost EVERYONE i...|4AnyhHl3_tE|  2022-08-14|   tech|146978.0| 11105.0|  3186890.0|  3344973.0|\n",
            "| 19|I bought the THIN...|nmY2kgWYwyQ|  2022-03-25|   tech|363771.0| 13609.0|1.1422924E7|1.1800304E7|\n",
            "+---+--------------------+-----------+------------+-------+--------+--------+-----------+-----------+\n",
            "only showing top 20 rows\n",
            "\n"
          ]
        }
      ]
    },
    {
      "cell_type": "code",
      "source": [
        "videos_stats_df = videos_stats.withColumn(\"data\", to_date(col(\"Published At\")))\n",
        "\n",
        "videos_stats_df.show()\n",
        "videos_stats_df.printSchema()"
      ],
      "metadata": {
        "colab": {
          "base_uri": "https://localhost:8080/"
        },
        "id": "18vl7fDfo77S",
        "outputId": "c8df78c8-1bfb-4720-dc15-20300f15266b"
      },
      "execution_count": 21,
      "outputs": [
        {
          "output_type": "stream",
          "name": "stdout",
          "text": [
            "+---+--------------------+-----------+------------+-------+--------+--------+-----------+----------+\n",
            "|_c0|               Title|   Video ID|Published At|Keyword|   Likes|Comments|      Views|      data|\n",
            "+---+--------------------+-----------+------------+-------+--------+--------+-----------+----------+\n",
            "|  0|Apple Pay Is Kill...|wAZZ-UWGVHI|  2022-08-23|   tech|  3407.0|   672.0|   135612.0|2022-08-23|\n",
            "|  1|The most EXPENSIV...|b3x28s61q3c|  2022-08-24|   tech| 76779.0|  4306.0|  1758063.0|2022-08-24|\n",
            "|  2|My New House Gami...|4mgePWWCAmA|  2022-08-23|   tech| 63825.0|  3338.0|  1564007.0|2022-08-23|\n",
            "|  3|Petrol Vs Liquid ...|kXiYSI7H2b0|  2022-08-23|   tech| 71566.0|  1426.0|   922918.0|2022-08-23|\n",
            "|  4|Best Back to Scho...|ErMwWXQxHp0|  2022-08-08|   tech| 96513.0|  5155.0|  1855644.0|2022-08-08|\n",
            "|  5|Brewmaster Answer...|18fwz9Itbvo|  2021-11-05|   tech| 33570.0|  1643.0|   943119.0|2021-11-05|\n",
            "|  6|Tech Monopolies: ...|jXf04bhcjbg|  2022-06-13|   tech|135047.0|  9367.0|  5937790.0|2022-06-13|\n",
            "|  7|I bought the STRA...|2TqOmtTAMRY|  2022-08-07|   tech|216935.0| 12605.0|  4782514.0|2022-08-07|\n",
            "|  8|15 Emerging Techn...|wLlL46pYcg4|  2021-12-08|   tech| 45565.0|  2882.0|  7001236.0|2021-12-08|\n",
            "|  9|Toxicologist Answ...|R7qsau3X6Ks|  2022-07-14|   tech| 24252.0|  1068.0|   667767.0|2022-07-14|\n",
            "| 10|Dope Tech: The Mo...|MEiq0oCUb_8|  2022-08-15|   tech|118001.0|  4123.0|  2359142.0|2022-08-15|\n",
            "| 11|Cool Tech Under $...|pT_9hntWj34|  2022-08-06|   tech| 20999.0|  3091.0|   413179.0|2022-08-06|\n",
            "| 12|Cool Back to Scho...|cj4lxmHQV0o|  2022-08-13|   tech| 15322.0|   547.0|   389114.0|2022-08-13|\n",
            "| 13|Best Tech/EDC Gif...|d-BdIo8_wpA|  2021-12-15|   tech| 17866.0|   157.0|   444953.0|2021-12-15|\n",
            "| 14|My Massive Tech U...|eFhhW6fsAbQ|  2022-07-09|   tech| 13217.0|   442.0|   371563.0|2022-07-09|\n",
            "| 15|Why Millennials A...|N88OE2ZCHBM|  2021-06-04|   tech| 26890.0|  4999.0|  1633059.0|2021-06-04|\n",
            "| 16|10 Coolest Gadget...|PKATJiyz0iI|  2021-08-13|   tech|  9562.0|   199.0|   760249.0|2021-08-13|\n",
            "| 17|17 Coolest Gadget...|qiMnSaZWf3M|  2022-07-21|   tech| 11743.0|   143.0|  1086568.0|2022-07-21|\n",
            "| 18|Almost EVERYONE i...|4AnyhHl3_tE|  2022-08-14|   tech|146978.0| 11105.0|  3186890.0|2022-08-14|\n",
            "| 19|I bought the THIN...|nmY2kgWYwyQ|  2022-03-25|   tech|363771.0| 13609.0|1.1422924E7|2022-03-25|\n",
            "+---+--------------------+-----------+------------+-------+--------+--------+-----------+----------+\n",
            "only showing top 20 rows\n",
            "\n",
            "root\n",
            " |-- _c0: integer (nullable = true)\n",
            " |-- Title: string (nullable = true)\n",
            " |-- Video ID: string (nullable = true)\n",
            " |-- Published At: date (nullable = true)\n",
            " |-- Keyword: string (nullable = true)\n",
            " |-- Likes: double (nullable = false)\n",
            " |-- Comments: double (nullable = false)\n",
            " |-- Views: double (nullable = false)\n",
            " |-- data: date (nullable = true)\n",
            "\n"
          ]
        }
      ]
    },
    {
      "cell_type": "code",
      "source": [
        "from pyspark.sql.functions import unix_timestamp, from_unixtime\n",
        "from pyspark.sql.functions import year\n",
        "\n",
        "videos_stats_df = videos_stats_df.withColumn(\"Publish At\", year(\"data\"))\n",
        "\n",
        "videos_stats_df.show()"
      ],
      "metadata": {
        "colab": {
          "base_uri": "https://localhost:8080/"
        },
        "id": "1AW8zDwRq51y",
        "outputId": "220f6587-6d5b-4a3e-b123-dae1ad4b016d"
      },
      "execution_count": 26,
      "outputs": [
        {
          "output_type": "stream",
          "name": "stdout",
          "text": [
            "+---+--------------------+-----------+------------+-------+--------+--------+-----------+----------+----------+\n",
            "|_c0|               Title|   Video ID|Published At|Keyword|   Likes|Comments|      Views|      data|Publish At|\n",
            "+---+--------------------+-----------+------------+-------+--------+--------+-----------+----------+----------+\n",
            "|  0|Apple Pay Is Kill...|wAZZ-UWGVHI|  2022-08-23|   tech|  3407.0|   672.0|   135612.0|2022-08-23|      2022|\n",
            "|  1|The most EXPENSIV...|b3x28s61q3c|  2022-08-24|   tech| 76779.0|  4306.0|  1758063.0|2022-08-24|      2022|\n",
            "|  2|My New House Gami...|4mgePWWCAmA|  2022-08-23|   tech| 63825.0|  3338.0|  1564007.0|2022-08-23|      2022|\n",
            "|  3|Petrol Vs Liquid ...|kXiYSI7H2b0|  2022-08-23|   tech| 71566.0|  1426.0|   922918.0|2022-08-23|      2022|\n",
            "|  4|Best Back to Scho...|ErMwWXQxHp0|  2022-08-08|   tech| 96513.0|  5155.0|  1855644.0|2022-08-08|      2022|\n",
            "|  5|Brewmaster Answer...|18fwz9Itbvo|  2021-11-05|   tech| 33570.0|  1643.0|   943119.0|2021-11-05|      2021|\n",
            "|  6|Tech Monopolies: ...|jXf04bhcjbg|  2022-06-13|   tech|135047.0|  9367.0|  5937790.0|2022-06-13|      2022|\n",
            "|  7|I bought the STRA...|2TqOmtTAMRY|  2022-08-07|   tech|216935.0| 12605.0|  4782514.0|2022-08-07|      2022|\n",
            "|  8|15 Emerging Techn...|wLlL46pYcg4|  2021-12-08|   tech| 45565.0|  2882.0|  7001236.0|2021-12-08|      2021|\n",
            "|  9|Toxicologist Answ...|R7qsau3X6Ks|  2022-07-14|   tech| 24252.0|  1068.0|   667767.0|2022-07-14|      2022|\n",
            "| 10|Dope Tech: The Mo...|MEiq0oCUb_8|  2022-08-15|   tech|118001.0|  4123.0|  2359142.0|2022-08-15|      2022|\n",
            "| 11|Cool Tech Under $...|pT_9hntWj34|  2022-08-06|   tech| 20999.0|  3091.0|   413179.0|2022-08-06|      2022|\n",
            "| 12|Cool Back to Scho...|cj4lxmHQV0o|  2022-08-13|   tech| 15322.0|   547.0|   389114.0|2022-08-13|      2022|\n",
            "| 13|Best Tech/EDC Gif...|d-BdIo8_wpA|  2021-12-15|   tech| 17866.0|   157.0|   444953.0|2021-12-15|      2021|\n",
            "| 14|My Massive Tech U...|eFhhW6fsAbQ|  2022-07-09|   tech| 13217.0|   442.0|   371563.0|2022-07-09|      2022|\n",
            "| 15|Why Millennials A...|N88OE2ZCHBM|  2021-06-04|   tech| 26890.0|  4999.0|  1633059.0|2021-06-04|      2021|\n",
            "| 16|10 Coolest Gadget...|PKATJiyz0iI|  2021-08-13|   tech|  9562.0|   199.0|   760249.0|2021-08-13|      2021|\n",
            "| 17|17 Coolest Gadget...|qiMnSaZWf3M|  2022-07-21|   tech| 11743.0|   143.0|  1086568.0|2022-07-21|      2022|\n",
            "| 18|Almost EVERYONE i...|4AnyhHl3_tE|  2022-08-14|   tech|146978.0| 11105.0|  3186890.0|2022-08-14|      2022|\n",
            "| 19|I bought the THIN...|nmY2kgWYwyQ|  2022-03-25|   tech|363771.0| 13609.0|1.1422924E7|2022-03-25|      2022|\n",
            "+---+--------------------+-----------+------------+-------+--------+--------+-----------+----------+----------+\n",
            "only showing top 20 rows\n",
            "\n"
          ]
        }
      ]
    },
    {
      "cell_type": "code",
      "source": [
        "join_videos_stats_df = comments.join(videos_stats, 'Video ID', 'inner')\n",
        "\n",
        "join_videos_stats_df.show()"
      ],
      "metadata": {
        "colab": {
          "base_uri": "https://localhost:8080/"
        },
        "id": "fQza0Og4trs0",
        "outputId": "fc5428fd-7582-4b22-92fc-690809e1ca5f"
      },
      "execution_count": 28,
      "outputs": [
        {
          "output_type": "stream",
          "name": "stdout",
          "text": [
            "+-----------+---+--------------------+------+---------+---+--------------------+------------+-------+-------+--------+---------+\n",
            "|   Video ID|_c0|             Comment| Likes|Sentiment|_c0|               Title|Published At|Keyword|  Likes|Comments|    Views|\n",
            "+-----------+---+--------------------+------+---------+---+--------------------+------------+-------+-------+--------+---------+\n",
            "|wAZZ-UWGVHI|  0|Let's not forget ...|  95.0|      1.0|  0|Apple Pay Is Kill...|  2022-08-23|   tech| 3407.0|   672.0| 135612.0|\n",
            "|wAZZ-UWGVHI|  1|Here in NZ 50% of...|  19.0|      0.0|  0|Apple Pay Is Kill...|  2022-08-23|   tech| 3407.0|   672.0| 135612.0|\n",
            "|wAZZ-UWGVHI|  2|I will forever ac...| 161.0|      2.0|  0|Apple Pay Is Kill...|  2022-08-23|   tech| 3407.0|   672.0| 135612.0|\n",
            "|wAZZ-UWGVHI|  3|Whenever I go to ...|   8.0|      0.0|  0|Apple Pay Is Kill...|  2022-08-23|   tech| 3407.0|   672.0| 135612.0|\n",
            "|wAZZ-UWGVHI|  4|Apple Pay is so c...|  34.0|      2.0|  0|Apple Pay Is Kill...|  2022-08-23|   tech| 3407.0|   672.0| 135612.0|\n",
            "|wAZZ-UWGVHI|  5|We’ve been houndi...|   8.0|      1.0|  0|Apple Pay Is Kill...|  2022-08-23|   tech| 3407.0|   672.0| 135612.0|\n",
            "|wAZZ-UWGVHI|  6|We only got Apple...|  29.0|      2.0|  0|Apple Pay Is Kill...|  2022-08-23|   tech| 3407.0|   672.0| 135612.0|\n",
            "|wAZZ-UWGVHI|  7|For now, I need b...|   7.0|      1.0|  0|Apple Pay Is Kill...|  2022-08-23|   tech| 3407.0|   672.0| 135612.0|\n",
            "|wAZZ-UWGVHI|  8|In the United Sta...|   2.0|      2.0|  0|Apple Pay Is Kill...|  2022-08-23|   tech| 3407.0|   672.0| 135612.0|\n",
            "|wAZZ-UWGVHI|  9|In Cambodia, we h...|  28.0|      1.0|  0|Apple Pay Is Kill...|  2022-08-23|   tech| 3407.0|   672.0| 135612.0|\n",
            "|b3x28s61q3c| 10|Wow, you really w...|1344.0|      2.0|  1|The most EXPENSIV...|  2022-08-24|   tech|76779.0|  4306.0|1758063.0|\n",
            "|b3x28s61q3c| 11|The lab is the mo...| 198.0|      2.0|  1|The most EXPENSIV...|  2022-08-24|   tech|76779.0|  4306.0|1758063.0|\n",
            "|b3x28s61q3c| 12|Linus, I'm an eng...| 365.0|      2.0|  1|The most EXPENSIV...|  2022-08-24|   tech|76779.0|  4306.0|1758063.0|\n",
            "|b3x28s61q3c| 13|There used to be ...| 211.0|      2.0|  1|The most EXPENSIV...|  2022-08-24|   tech|76779.0|  4306.0|1758063.0|\n",
            "|b3x28s61q3c| 14|Holy crap. I was ...| 821.0|      0.0|  1|The most EXPENSIV...|  2022-08-24|   tech|76779.0|  4306.0|1758063.0|\n",
            "|b3x28s61q3c| 15|I love the direct...| 150.0|      2.0|  1|The most EXPENSIV...|  2022-08-24|   tech|76779.0|  4306.0|1758063.0|\n",
            "|b3x28s61q3c| 16|I am more excited...|  49.0|      2.0|  1|The most EXPENSIV...|  2022-08-24|   tech|76779.0|  4306.0|1758063.0|\n",
            "|b3x28s61q3c| 17|I adore the worki...|  19.0|      2.0|  1|The most EXPENSIV...|  2022-08-24|   tech|76779.0|  4306.0|1758063.0|\n",
            "|b3x28s61q3c| 18|LMGs growth is ho...|  NULL|     NULL|  1|The most EXPENSIV...|  2022-08-24|   tech|76779.0|  4306.0|1758063.0|\n",
            "|b3x28s61q3c| 19|I love all the pe...|2808.0|      2.0|  1|The most EXPENSIV...|  2022-08-24|   tech|76779.0|  4306.0|1758063.0|\n",
            "+-----------+---+--------------------+------+---------+---+--------------------+------------+-------+-------+--------+---------+\n",
            "only showing top 20 rows\n",
            "\n"
          ]
        }
      ]
    },
    {
      "cell_type": "code",
      "source": [
        "USvideos = spark.read.csv(\"/content/drive/MyDrive/atividadeTratamento/USvideos.csv\", header=True, inferSchema=True)"
      ],
      "metadata": {
        "id": "LiBi72s6qHKc"
      },
      "execution_count": 29,
      "outputs": []
    },
    {
      "cell_type": "code",
      "source": [
        "print('dataframe USvideos: \\n', USvideos.show(5))\n"
      ],
      "metadata": {
        "colab": {
          "base_uri": "https://localhost:8080/"
        },
        "id": "PH2KYfUDqLl3",
        "outputId": "fb264133-7cd8-4553-8c4b-9d859c397edd"
      },
      "execution_count": 30,
      "outputs": [
        {
          "output_type": "stream",
          "name": "stdout",
          "text": [
            "+-----------+-------------+--------------------+--------------------+-----------+--------------------+--------------------+-------+------+--------+-------------+--------------------+-----------------+----------------+----------------------+--------------------+\n",
            "|   video_id|trending_date|               title|       channel_title|category_id|        publish_time|                tags|  views| likes|dislikes|comment_count|      thumbnail_link|comments_disabled|ratings_disabled|video_error_or_removed|         description|\n",
            "+-----------+-------------+--------------------+--------------------+-----------+--------------------+--------------------+-------+------+--------+-------------+--------------------+-----------------+----------------+----------------------+--------------------+\n",
            "|2kyS6SvSYSE|     17.14.11|WE WANT TO TALK A...|        CaseyNeistat|         22|2017-11-13T17:13:...|     SHANtell martin| 748374| 57527|    2966|        15954|https://i.ytimg.c...|            False|           False|                 False|SHANTELL'S CHANNE...|\n",
            "|1ZAPwfrtAFY|     17.14.11|The Trump Preside...|     LastWeekTonight|         24|2017-11-13T07:30:...|\"last week tonigh...|2418783| 97185|    6146|        12703|https://i.ytimg.c...|            False|           False|                 False|One year after th...|\n",
            "|5qpjK5DgCt4|     17.14.11|Racist Superman |...|        Rudy Mancuso|         23|2017-11-12T19:05:...|\"racist superman\"...|3191434|146033|    5339|         8181|https://i.ytimg.c...|            False|           False|                 False|WATCH MY PREVIOUS...|\n",
            "|puqaWrEC7tY|     17.14.11|Nickelback Lyrics...|Good Mythical Mor...|         24|2017-11-13T11:00:...|\"rhett and link\"|...| 343168| 10172|     666|         2146|https://i.ytimg.c...|            False|           False|                 False|Today we find out...|\n",
            "|d380meD0W0M|     17.14.11|I Dare You: GOING...|            nigahiga|         24|2017-11-12T18:01:...|\"ryan\"|\"higa\"|\"hi...|2095731|132235|    1989|        17518|https://i.ytimg.c...|            False|           False|                 False|I know it's been ...|\n",
            "+-----------+-------------+--------------------+--------------------+-----------+--------------------+--------------------+-------+------+--------+-------------+--------------------+-----------------+----------------+----------------------+--------------------+\n",
            "only showing top 5 rows\n",
            "\n",
            "dataframe USvideos: \n",
            " None\n"
          ]
        }
      ]
    },
    {
      "cell_type": "code",
      "source": [
        "join_USvideos_df = USvideos.join(videos_stats, 'title', 'inner')\n",
        "\n",
        "join_USvideos_df.show()"
      ],
      "metadata": {
        "colab": {
          "base_uri": "https://localhost:8080/"
        },
        "id": "ik1Ffd5-uanj",
        "outputId": "043f7f42-a967-41b2-e8b7-983e82936638"
      },
      "execution_count": 31,
      "outputs": [
        {
          "output_type": "stream",
          "name": "stdout",
          "text": [
            "+--------------------+-----------+-------------+-----------------+-----------+--------------------+--------------------+--------+------+--------+-------------+--------------------+-----------------+----------------+----------------------+--------------------+----+-----------+------------+----------------+--------+--------+------------+\n",
            "|               title|   video_id|trending_date|    channel_title|category_id|        publish_time|                tags|   views| likes|dislikes|comment_count|      thumbnail_link|comments_disabled|ratings_disabled|video_error_or_removed|         description| _c0|   Video ID|Published At|         Keyword|   Likes|Comments|       Views|\n",
            "+--------------------+-----------+-------------+-----------------+-----------+--------------------+--------------------+--------+------+--------+-------------+--------------------+-----------------+----------------+----------------------+--------------------+----+-----------+------------+----------------+--------+--------+------------+\n",
            "|All Sports Golf B...|-RmUADCWI4A|     17.06.12|     Dude Perfect|         17|2017-12-04T22:57:...|\"dude perfect\"|\"d...| 8643326|299731|    5168|        23303|https://i.ytimg.c...|            False|           False|                 False|Golf + every othe...| 157|-RmUADCWI4A|  2017-12-04|          sports|867074.0| 43024.0|1.06014469E8|\n",
            "|All Sports Golf B...|-RmUADCWI4A|     17.07.12|     Dude Perfect|         17|2017-12-04T22:57:...|\"dude perfect\"|\"d...| 9828746|316976|    5797|        23221|https://i.ytimg.c...|            False|           False|                 False|Golf + every othe...| 157|-RmUADCWI4A|  2017-12-04|          sports|867074.0| 43024.0|1.06014469E8|\n",
            "|All Sports Golf B...|-RmUADCWI4A|     17.08.12|     Dude Perfect|         17|2017-12-04T22:57:...|\"dude perfect\"|\"d...|10558591|325479|    6104|        24107|https://i.ytimg.c...|            False|           False|                 False|Golf + every othe...| 157|-RmUADCWI4A|  2017-12-04|          sports|867074.0| 43024.0|1.06014469E8|\n",
            "|All Sports Golf B...|-RmUADCWI4A|     17.09.12|     Dude Perfect|         17|2017-12-04T22:57:...|\"dude perfect\"|\"d...|11319116|334495|    6430|        25199|https://i.ytimg.c...|            False|           False|                 False|Golf + every othe...| 157|-RmUADCWI4A|  2017-12-04|          sports|867074.0| 43024.0|1.06014469E8|\n",
            "|All Sports Golf B...|-RmUADCWI4A|     17.10.12|     Dude Perfect|         17|2017-12-04T22:57:...|\"dude perfect\"|\"d...|12305961|342825|    6898|        25905|https://i.ytimg.c...|            False|           False|                 False|Golf + every othe...| 157|-RmUADCWI4A|  2017-12-04|          sports|867074.0| 43024.0|1.06014469E8|\n",
            "|All Sports Golf B...|-RmUADCWI4A|     17.11.12|     Dude Perfect|         17|2017-12-04T22:57:...|\"dude perfect\"|\"d...|13250970|349766|    7437|        26489|https://i.ytimg.c...|            False|           False|                 False|Golf + every othe...| 157|-RmUADCWI4A|  2017-12-04|          sports|867074.0| 43024.0|1.06014469E8|\n",
            "|All Sports Golf B...|-RmUADCWI4A|     17.12.12|     Dude Perfect|         17|2017-12-04T22:57:...|\"dude perfect\"|\"d...|14107720|356297|    7889|        27012|https://i.ytimg.c...|            False|           False|                 False|Golf + every othe...| 157|-RmUADCWI4A|  2017-12-04|          sports|867074.0| 43024.0|1.06014469E8|\n",
            "|      Map of Biology|wENhHnJI1ys|     17.13.12|Domain of Science|         28|2017-12-09T15:32:...|\"science\"|\"biolog...|   30134|  2747|      17|          233|https://i.ytimg.c...|            False|           False|                 False|Biology is the su...|1408|wENhHnJI1ys|  2017-12-09|         biology| 26530.0|   818.0|    602137.0|\n",
            "|      Map of Biology|wENhHnJI1ys|     17.14.12|Domain of Science|         28|2017-12-09T15:32:...|\"science\"|\"biolog...|   31928|  2843|      17|          230|https://i.ytimg.c...|            False|           False|                 False|Biology is the su...|1408|wENhHnJI1ys|  2017-12-09|         biology| 26530.0|   818.0|    602137.0|\n",
            "|  How Machines Learn|R9OHn5ZF4Uo|     17.20.12|         CGP Grey|         27|2017-12-18T14:39:...|\"cgpgrey\"|\"educat...| 1227348|155986|     916|         9335|https://i.ytimg.c...|            False|           False|                 False|How do all the al...|1860|R9OHn5ZF4Uo|  2017-12-18|machine learning| 10441.0|   172.0|    515395.0|\n",
            "|  How Machines Learn|R9OHn5ZF4Uo|     17.21.12|         CGP Grey|         27|2017-12-18T14:39:...|\"cgpgrey\"|\"educat...| 1515895|166667|    1169|         9820|https://i.ytimg.c...|            False|           False|                 False|How do all the al...|1860|R9OHn5ZF4Uo|  2017-12-18|machine learning| 10441.0|   172.0|    515395.0|\n",
            "|  How Machines Learn|R9OHn5ZF4Uo|     17.22.12|         CGP Grey|         27|2017-12-18T14:39:...|\"cgpgrey\"|\"educat...| 1570967|171457|    1204|        10048|https://i.ytimg.c...|            False|           False|                 False|How do all the al...|1860|R9OHn5ZF4Uo|  2017-12-18|machine learning| 10441.0|   172.0|    515395.0|\n",
            "|  How Machines Learn|R9OHn5ZF4Uo|     17.23.12|         CGP Grey|         27|2017-12-18T14:39:...|\"cgpgrey\"|\"educat...| 1610875|174918|    1225|        10185|https://i.ytimg.c...|            False|           False|                 False|How do all the al...|1860|R9OHn5ZF4Uo|  2017-12-18|machine learning| 10441.0|   172.0|    515395.0|\n",
            "|  How Machines Learn|R9OHn5ZF4Uo|     17.24.12|         CGP Grey|         27|2017-12-18T14:39:...|\"cgpgrey\"|\"educat...| 1646752|178160|    1239|        10347|https://i.ytimg.c...|            False|           False|                 False|How do all the al...|1860|R9OHn5ZF4Uo|  2017-12-18|machine learning| 10441.0|   172.0|    515395.0|\n",
            "|  How Machines Learn|R9OHn5ZF4Uo|     17.25.12|         CGP Grey|         27|2017-12-18T14:39:...|\"cgpgrey\"|\"educat...| 1677991|180305|    1253|        10439|https://i.ytimg.c...|            False|           False|                 False|How do all the al...|1860|R9OHn5ZF4Uo|  2017-12-18|machine learning| 10441.0|   172.0|    515395.0|\n",
            "|  How Machines Learn|R9OHn5ZF4Uo|     17.26.12|         CGP Grey|         27|2017-12-18T14:39:...|\"cgpgrey\"|\"educat...| 1712379|182958|    1271|        10578|https://i.ytimg.c...|            False|           False|                 False|How do all the al...|1860|R9OHn5ZF4Uo|  2017-12-18|machine learning| 10441.0|   172.0|    515395.0|\n",
            "|  How Machines Learn|R9OHn5ZF4Uo|     17.27.12|         CGP Grey|         27|2017-12-18T14:39:...|\"cgpgrey\"|\"educat...| 1745698|185788|    1292|        10688|https://i.ytimg.c...|            False|           False|                 False|How do all the al...|1860|R9OHn5ZF4Uo|  2017-12-18|machine learning| 10441.0|   172.0|    515395.0|\n",
            "|  How Machines Learn|R9OHn5ZF4Uo|     17.28.12|         CGP Grey|         27|2017-12-18T14:39:...|\"cgpgrey\"|\"educat...| 1769751|187892|    1298|        10742|https://i.ytimg.c...|            False|           False|                 False|How do all the al...|1860|R9OHn5ZF4Uo|  2017-12-18|machine learning| 10441.0|   172.0|    515395.0|\n",
            "+--------------------+-----------+-------------+-----------------+-----------+--------------------+--------------------+--------+------+--------+-------------+--------------------+-----------------+----------------+----------------------+--------------------+----+-----------+------------+----------------+--------+--------+------------+\n",
            "\n"
          ]
        }
      ]
    },
    {
      "cell_type": "code",
      "source": [
        "for coluna in videos_stats.columns:\n",
        "    videos_stats.select(count(when(col(coluna).isNull(), coluna)).alias(coluna)).show()\n"
      ],
      "metadata": {
        "colab": {
          "base_uri": "https://localhost:8080/"
        },
        "id": "GBu3FoADvFy8",
        "outputId": "667db189-2269-45e9-cacf-7395e86b20de"
      },
      "execution_count": 35,
      "outputs": [
        {
          "output_type": "stream",
          "name": "stdout",
          "text": [
            "+---+\n",
            "|_c0|\n",
            "+---+\n",
            "|  0|\n",
            "+---+\n",
            "\n",
            "+-----+\n",
            "|Title|\n",
            "+-----+\n",
            "|    0|\n",
            "+-----+\n",
            "\n",
            "+--------+\n",
            "|Video ID|\n",
            "+--------+\n",
            "|       0|\n",
            "+--------+\n",
            "\n",
            "+------------+\n",
            "|Published At|\n",
            "+------------+\n",
            "|           0|\n",
            "+------------+\n",
            "\n",
            "+-------+\n",
            "|Keyword|\n",
            "+-------+\n",
            "|      0|\n",
            "+-------+\n",
            "\n",
            "+-----+\n",
            "|Likes|\n",
            "+-----+\n",
            "|    0|\n",
            "+-----+\n",
            "\n",
            "+--------+\n",
            "|Comments|\n",
            "+--------+\n",
            "|       0|\n",
            "+--------+\n",
            "\n",
            "+-----+\n",
            "|Views|\n",
            "+-----+\n",
            "|    0|\n",
            "+-----+\n",
            "\n"
          ]
        }
      ]
    },
    {
      "cell_type": "code",
      "source": [
        "colunas = videos_stats_df.columns\n",
        "print(colunas)\n",
        "\n",
        "videos_stats_df = videos_stats_df.drop('_c0')\n",
        "\n",
        "videos_stats_df.show()\n"
      ],
      "metadata": {
        "colab": {
          "base_uri": "https://localhost:8080/"
        },
        "id": "yXeXYSbQxy_8",
        "outputId": "70cc916d-7a44-442d-d9ee-85b15227f022"
      },
      "execution_count": 48,
      "outputs": [
        {
          "output_type": "stream",
          "name": "stdout",
          "text": [
            "['Title', 'Video ID', 'Published At', 'Keyword', 'Likes', 'Comments', 'Views', 'data', 'Publish At']\n",
            "+--------------------+-----------+------------+-------+--------+--------+-----------+----------+----------+\n",
            "|               Title|   Video ID|Published At|Keyword|   Likes|Comments|      Views|      data|Publish At|\n",
            "+--------------------+-----------+------------+-------+--------+--------+-----------+----------+----------+\n",
            "|Apple Pay Is Kill...|wAZZ-UWGVHI|  2022-08-23|   tech|  3407.0|   672.0|   135612.0|2022-08-23|      2022|\n",
            "|The most EXPENSIV...|b3x28s61q3c|  2022-08-24|   tech| 76779.0|  4306.0|  1758063.0|2022-08-24|      2022|\n",
            "|My New House Gami...|4mgePWWCAmA|  2022-08-23|   tech| 63825.0|  3338.0|  1564007.0|2022-08-23|      2022|\n",
            "|Petrol Vs Liquid ...|kXiYSI7H2b0|  2022-08-23|   tech| 71566.0|  1426.0|   922918.0|2022-08-23|      2022|\n",
            "|Best Back to Scho...|ErMwWXQxHp0|  2022-08-08|   tech| 96513.0|  5155.0|  1855644.0|2022-08-08|      2022|\n",
            "|Brewmaster Answer...|18fwz9Itbvo|  2021-11-05|   tech| 33570.0|  1643.0|   943119.0|2021-11-05|      2021|\n",
            "|Tech Monopolies: ...|jXf04bhcjbg|  2022-06-13|   tech|135047.0|  9367.0|  5937790.0|2022-06-13|      2022|\n",
            "|I bought the STRA...|2TqOmtTAMRY|  2022-08-07|   tech|216935.0| 12605.0|  4782514.0|2022-08-07|      2022|\n",
            "|15 Emerging Techn...|wLlL46pYcg4|  2021-12-08|   tech| 45565.0|  2882.0|  7001236.0|2021-12-08|      2021|\n",
            "|Toxicologist Answ...|R7qsau3X6Ks|  2022-07-14|   tech| 24252.0|  1068.0|   667767.0|2022-07-14|      2022|\n",
            "|Dope Tech: The Mo...|MEiq0oCUb_8|  2022-08-15|   tech|118001.0|  4123.0|  2359142.0|2022-08-15|      2022|\n",
            "|Cool Tech Under $...|pT_9hntWj34|  2022-08-06|   tech| 20999.0|  3091.0|   413179.0|2022-08-06|      2022|\n",
            "|Cool Back to Scho...|cj4lxmHQV0o|  2022-08-13|   tech| 15322.0|   547.0|   389114.0|2022-08-13|      2022|\n",
            "|Best Tech/EDC Gif...|d-BdIo8_wpA|  2021-12-15|   tech| 17866.0|   157.0|   444953.0|2021-12-15|      2021|\n",
            "|My Massive Tech U...|eFhhW6fsAbQ|  2022-07-09|   tech| 13217.0|   442.0|   371563.0|2022-07-09|      2022|\n",
            "|Why Millennials A...|N88OE2ZCHBM|  2021-06-04|   tech| 26890.0|  4999.0|  1633059.0|2021-06-04|      2021|\n",
            "|10 Coolest Gadget...|PKATJiyz0iI|  2021-08-13|   tech|  9562.0|   199.0|   760249.0|2021-08-13|      2021|\n",
            "|17 Coolest Gadget...|qiMnSaZWf3M|  2022-07-21|   tech| 11743.0|   143.0|  1086568.0|2022-07-21|      2022|\n",
            "|Almost EVERYONE i...|4AnyhHl3_tE|  2022-08-14|   tech|146978.0| 11105.0|  3186890.0|2022-08-14|      2022|\n",
            "|I bought the THIN...|nmY2kgWYwyQ|  2022-03-25|   tech|363771.0| 13609.0|1.1422924E7|2022-03-25|      2022|\n",
            "+--------------------+-----------+------------+-------+--------+--------+-----------+----------+----------+\n",
            "only showing top 20 rows\n",
            "\n"
          ]
        }
      ]
    },
    {
      "cell_type": "code",
      "source": [
        "videos_stats_df.write.mode('overwrite').option('header', 'true').parquet('drive/MyDrive/Colab Notebooks/spark/data/output/videos-tratados-parquet')"
      ],
      "metadata": {
        "id": "Pgx_sIok0kBD"
      },
      "execution_count": 49,
      "outputs": []
    },
    {
      "cell_type": "code",
      "source": [
        "colunas = join_USvideos_df.columns\n",
        "print(colunas)\n",
        "\n",
        "join_USvideos_df = join_USvideos_df.drop('_c0')\n",
        "\n",
        "join_USvideos_df.show()"
      ],
      "metadata": {
        "colab": {
          "base_uri": "https://localhost:8080/"
        },
        "id": "hxovlzk60-Xh",
        "outputId": "7bdf1788-39ed-44dc-a541-341aef99a685"
      },
      "execution_count": 50,
      "outputs": [
        {
          "output_type": "stream",
          "name": "stdout",
          "text": [
            "['title', 'video_id', 'trending_date', 'channel_title', 'category_id', 'publish_time', 'tags', 'views', 'likes', 'dislikes', 'comment_count', 'thumbnail_link', 'comments_disabled', 'ratings_disabled', 'video_error_or_removed', 'description', '_c0', 'Video ID', 'Published At', 'Keyword', 'Likes', 'Comments', 'Views']\n",
            "+--------------------+-----------+-------------+-----------------+-----------+--------------------+--------------------+--------+------+--------+-------------+--------------------+-----------------+----------------+----------------------+--------------------+-----------+------------+----------------+--------+--------+------------+\n",
            "|               title|   video_id|trending_date|    channel_title|category_id|        publish_time|                tags|   views| likes|dislikes|comment_count|      thumbnail_link|comments_disabled|ratings_disabled|video_error_or_removed|         description|   Video ID|Published At|         Keyword|   Likes|Comments|       Views|\n",
            "+--------------------+-----------+-------------+-----------------+-----------+--------------------+--------------------+--------+------+--------+-------------+--------------------+-----------------+----------------+----------------------+--------------------+-----------+------------+----------------+--------+--------+------------+\n",
            "|All Sports Golf B...|-RmUADCWI4A|     17.06.12|     Dude Perfect|         17|2017-12-04T22:57:...|\"dude perfect\"|\"d...| 8643326|299731|    5168|        23303|https://i.ytimg.c...|            False|           False|                 False|Golf + every othe...|-RmUADCWI4A|  2017-12-04|          sports|867074.0| 43024.0|1.06014469E8|\n",
            "|All Sports Golf B...|-RmUADCWI4A|     17.07.12|     Dude Perfect|         17|2017-12-04T22:57:...|\"dude perfect\"|\"d...| 9828746|316976|    5797|        23221|https://i.ytimg.c...|            False|           False|                 False|Golf + every othe...|-RmUADCWI4A|  2017-12-04|          sports|867074.0| 43024.0|1.06014469E8|\n",
            "|All Sports Golf B...|-RmUADCWI4A|     17.08.12|     Dude Perfect|         17|2017-12-04T22:57:...|\"dude perfect\"|\"d...|10558591|325479|    6104|        24107|https://i.ytimg.c...|            False|           False|                 False|Golf + every othe...|-RmUADCWI4A|  2017-12-04|          sports|867074.0| 43024.0|1.06014469E8|\n",
            "|All Sports Golf B...|-RmUADCWI4A|     17.09.12|     Dude Perfect|         17|2017-12-04T22:57:...|\"dude perfect\"|\"d...|11319116|334495|    6430|        25199|https://i.ytimg.c...|            False|           False|                 False|Golf + every othe...|-RmUADCWI4A|  2017-12-04|          sports|867074.0| 43024.0|1.06014469E8|\n",
            "|All Sports Golf B...|-RmUADCWI4A|     17.10.12|     Dude Perfect|         17|2017-12-04T22:57:...|\"dude perfect\"|\"d...|12305961|342825|    6898|        25905|https://i.ytimg.c...|            False|           False|                 False|Golf + every othe...|-RmUADCWI4A|  2017-12-04|          sports|867074.0| 43024.0|1.06014469E8|\n",
            "|All Sports Golf B...|-RmUADCWI4A|     17.11.12|     Dude Perfect|         17|2017-12-04T22:57:...|\"dude perfect\"|\"d...|13250970|349766|    7437|        26489|https://i.ytimg.c...|            False|           False|                 False|Golf + every othe...|-RmUADCWI4A|  2017-12-04|          sports|867074.0| 43024.0|1.06014469E8|\n",
            "|All Sports Golf B...|-RmUADCWI4A|     17.12.12|     Dude Perfect|         17|2017-12-04T22:57:...|\"dude perfect\"|\"d...|14107720|356297|    7889|        27012|https://i.ytimg.c...|            False|           False|                 False|Golf + every othe...|-RmUADCWI4A|  2017-12-04|          sports|867074.0| 43024.0|1.06014469E8|\n",
            "|      Map of Biology|wENhHnJI1ys|     17.13.12|Domain of Science|         28|2017-12-09T15:32:...|\"science\"|\"biolog...|   30134|  2747|      17|          233|https://i.ytimg.c...|            False|           False|                 False|Biology is the su...|wENhHnJI1ys|  2017-12-09|         biology| 26530.0|   818.0|    602137.0|\n",
            "|      Map of Biology|wENhHnJI1ys|     17.14.12|Domain of Science|         28|2017-12-09T15:32:...|\"science\"|\"biolog...|   31928|  2843|      17|          230|https://i.ytimg.c...|            False|           False|                 False|Biology is the su...|wENhHnJI1ys|  2017-12-09|         biology| 26530.0|   818.0|    602137.0|\n",
            "|  How Machines Learn|R9OHn5ZF4Uo|     17.20.12|         CGP Grey|         27|2017-12-18T14:39:...|\"cgpgrey\"|\"educat...| 1227348|155986|     916|         9335|https://i.ytimg.c...|            False|           False|                 False|How do all the al...|R9OHn5ZF4Uo|  2017-12-18|machine learning| 10441.0|   172.0|    515395.0|\n",
            "|  How Machines Learn|R9OHn5ZF4Uo|     17.21.12|         CGP Grey|         27|2017-12-18T14:39:...|\"cgpgrey\"|\"educat...| 1515895|166667|    1169|         9820|https://i.ytimg.c...|            False|           False|                 False|How do all the al...|R9OHn5ZF4Uo|  2017-12-18|machine learning| 10441.0|   172.0|    515395.0|\n",
            "|  How Machines Learn|R9OHn5ZF4Uo|     17.22.12|         CGP Grey|         27|2017-12-18T14:39:...|\"cgpgrey\"|\"educat...| 1570967|171457|    1204|        10048|https://i.ytimg.c...|            False|           False|                 False|How do all the al...|R9OHn5ZF4Uo|  2017-12-18|machine learning| 10441.0|   172.0|    515395.0|\n",
            "|  How Machines Learn|R9OHn5ZF4Uo|     17.23.12|         CGP Grey|         27|2017-12-18T14:39:...|\"cgpgrey\"|\"educat...| 1610875|174918|    1225|        10185|https://i.ytimg.c...|            False|           False|                 False|How do all the al...|R9OHn5ZF4Uo|  2017-12-18|machine learning| 10441.0|   172.0|    515395.0|\n",
            "|  How Machines Learn|R9OHn5ZF4Uo|     17.24.12|         CGP Grey|         27|2017-12-18T14:39:...|\"cgpgrey\"|\"educat...| 1646752|178160|    1239|        10347|https://i.ytimg.c...|            False|           False|                 False|How do all the al...|R9OHn5ZF4Uo|  2017-12-18|machine learning| 10441.0|   172.0|    515395.0|\n",
            "|  How Machines Learn|R9OHn5ZF4Uo|     17.25.12|         CGP Grey|         27|2017-12-18T14:39:...|\"cgpgrey\"|\"educat...| 1677991|180305|    1253|        10439|https://i.ytimg.c...|            False|           False|                 False|How do all the al...|R9OHn5ZF4Uo|  2017-12-18|machine learning| 10441.0|   172.0|    515395.0|\n",
            "|  How Machines Learn|R9OHn5ZF4Uo|     17.26.12|         CGP Grey|         27|2017-12-18T14:39:...|\"cgpgrey\"|\"educat...| 1712379|182958|    1271|        10578|https://i.ytimg.c...|            False|           False|                 False|How do all the al...|R9OHn5ZF4Uo|  2017-12-18|machine learning| 10441.0|   172.0|    515395.0|\n",
            "|  How Machines Learn|R9OHn5ZF4Uo|     17.27.12|         CGP Grey|         27|2017-12-18T14:39:...|\"cgpgrey\"|\"educat...| 1745698|185788|    1292|        10688|https://i.ytimg.c...|            False|           False|                 False|How do all the al...|R9OHn5ZF4Uo|  2017-12-18|machine learning| 10441.0|   172.0|    515395.0|\n",
            "|  How Machines Learn|R9OHn5ZF4Uo|     17.28.12|         CGP Grey|         27|2017-12-18T14:39:...|\"cgpgrey\"|\"educat...| 1769751|187892|    1298|        10742|https://i.ytimg.c...|            False|           False|                 False|How do all the al...|R9OHn5ZF4Uo|  2017-12-18|machine learning| 10441.0|   172.0|    515395.0|\n",
            "+--------------------+-----------+-------------+-----------------+-----------+--------------------+--------------------+--------+------+--------+-------------+--------------------+-----------------+----------------+----------------------+--------------------+-----------+------------+----------------+--------+--------+------------+\n",
            "\n"
          ]
        }
      ]
    },
    {
      "cell_type": "code",
      "source": [
        "join_USvideos_df.write.mode('overwrite').option('header', 'true').parquet('drive/MyDrive/Colab Notebooks/spark/data/output/videos-comments-tratados-parquet')"
      ],
      "metadata": {
        "id": "7mC-HvcJ1Y5N"
      },
      "execution_count": null,
      "outputs": []
    }
  ]
}